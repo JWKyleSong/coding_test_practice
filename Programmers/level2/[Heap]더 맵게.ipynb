{
 "cells": [
  {
   "cell_type": "markdown",
   "metadata": {},
   "source": [
    "## 더 맵게\n",
    "\n",
    "### heapq 사용해서 시간복잡도 단축할 수 있음!!"
   ]
  },
  {
   "cell_type": "code",
   "execution_count": 4,
   "metadata": {},
   "outputs": [
    {
     "name": "stdout",
     "output_type": "stream",
     "text": [
      "1\n"
     ]
    }
   ],
   "source": [
    "import heapq\n",
    "\n",
    "scoville = [1, 2, 3, 9, 10, 12]\n",
    "\n",
    "heapq.heapify(scoville)\n",
    "\n",
    "print(heapq.heappop(scoville))"
   ]
  },
  {
   "cell_type": "code",
   "execution_count": null,
   "metadata": {},
   "outputs": [],
   "source": [
    "import heapq\n",
    "\n",
    "def solution(scoville, K):\n",
    "    answer = 0\n",
    "    heapq.heapify(scoville)\n",
    "    while len(scoville) > 1 and scoville[0] < K:\n",
    "        temp = heapq.heappop(scoville)\n",
    "        temp = heapq.heappop(scoville) * 2 + temp\n",
    "        heapq.heappush(scoville, temp)\n",
    "        answer += 1\n",
    "    if scoville[0] < K:\n",
    "        return -1\n",
    "    return answer"
   ]
  }
 ],
 "metadata": {
  "kernelspec": {
   "display_name": "Python 3",
   "language": "python",
   "name": "python3"
  },
  "language_info": {
   "codemirror_mode": {
    "name": "ipython",
    "version": 3
   },
   "file_extension": ".py",
   "mimetype": "text/x-python",
   "name": "python",
   "nbconvert_exporter": "python",
   "pygments_lexer": "ipython3",
   "version": "3.8.5"
  }
 },
 "nbformat": 4,
 "nbformat_minor": 4
}
