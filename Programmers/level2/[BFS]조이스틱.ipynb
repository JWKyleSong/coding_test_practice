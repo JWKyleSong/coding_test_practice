{
 "cells": [
  {
   "cell_type": "markdown",
   "metadata": {},
   "source": [
    "## 조이스틱\n",
    "\n",
    "### 그리디 문제인데 bfs로 풀어야함"
   ]
  },
  {
   "cell_type": "code",
   "execution_count": null,
   "metadata": {},
   "outputs": [],
   "source": [
    "import copy\n",
    "def solution(name):\n",
    "    moves = [-1, 1]\n",
    "    nameList = list(name)\n",
    "    # start = (nameList, index, count)\n",
    "    def bfs(start):\n",
    "        stack = [start]\n",
    "        \n",
    "        while stack:\n",
    "            n = stack.pop()\n",
    "            array, idx, cnt = n[0], n[1], n[2]\n",
    "            cnt += min(ord(array[idx]) - 65, 91 - ord(array[idx])) # 아스키 코드값으로 변경 횟수 계산\n",
    "            array[idx] = 'A'\n",
    "            if array.count('A') == len(array): # 종료 시점\n",
    "                return cnt\n",
    "            for move in moves:\n",
    "                new_array = copy.deepcopy(array) # array 주소 복사 서로 영향 안미치게\n",
    "                new_idx = idx + move\n",
    "                new_cnt = cnt + 1\n",
    "                stack.insert(0, (new_array, new_idx, new_cnt))\n",
    "\n",
    "    return bfs((nameList, 0, 0))"
   ]
  }
 ],
 "metadata": {
  "kernelspec": {
   "display_name": "Python 3",
   "language": "python",
   "name": "python3"
  },
  "language_info": {
   "codemirror_mode": {
    "name": "ipython",
    "version": 3
   },
   "file_extension": ".py",
   "mimetype": "text/x-python",
   "name": "python",
   "nbconvert_exporter": "python",
   "pygments_lexer": "ipython3",
   "version": "3.8.8"
  }
 },
 "nbformat": 4,
 "nbformat_minor": 4
}
