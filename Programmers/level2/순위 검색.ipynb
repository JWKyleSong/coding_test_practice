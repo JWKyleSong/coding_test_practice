{
 "cells": [
  {
   "cell_type": "markdown",
   "metadata": {},
   "source": [
    "## 순위 검색\n",
    "\n",
    "### 시간복잡도 높일땐 공간복잡도를 조지자. bisect로 이진 탐색 가능"
   ]
  },
  {
   "cell_type": "code",
   "execution_count": null,
   "metadata": {},
   "outputs": [],
   "source": [
    "from bisect import bisect_left\n",
    "\n",
    "def solution(info, query):\n",
    "    answer = []\n",
    "    refined_info = []\n",
    "    refined_query = []\n",
    "    groups = {}\n",
    "\n",
    "    for lan in (\"c\", \"j\", \"p\", \"-\"):\n",
    "        for part in (\"b\", \"f\", \"-\"):\n",
    "            for career in (\"j\", \"s\", \"-\"):\n",
    "                for food in (\"c\", \"p\", \"-\"):\n",
    "                    groups[lan + part + career + food] = []\n",
    "    \n",
    "    refined_info = [[con for con in item.split(\" \")] for item in info]\n",
    "    refined_query = [[con for con in item.split(\" \") if con != 'and'] for item in query]\n",
    "        \n",
    "    for item in refined_info:\n",
    "        lan = (item[0][0], \"-\")\n",
    "        part = (item[1][0], \"-\")\n",
    "        career = (item[2][0], \"-\")\n",
    "        food = (item[3][0], \"-\")\n",
    "        score = int(item[4])\n",
    "    \n",
    "        for l in lan:\n",
    "            for p in part:\n",
    "                for c in career:\n",
    "                    for f in food:\n",
    "                        groups[l+p+c+f].append(score)\n",
    "    \n",
    "    for key in groups.keys():\n",
    "        groups[key].sort()\n",
    "    \n",
    "    for item in refined_query:\n",
    "        lan = item[0][0]\n",
    "        part = item[1][0]\n",
    "        career = item[2][0]\n",
    "        food = item[3][0]\n",
    "        score = int(item[4])\n",
    "        \n",
    "        c = len(groups[lan+part+career+food]) - bisect_left(groups[lan+part+career+food], score)\n",
    "        answer.append(c)\n",
    "    \n",
    "    return answer"
   ]
  }
 ],
 "metadata": {
  "kernelspec": {
   "display_name": "Python 3",
   "language": "python",
   "name": "python3"
  },
  "language_info": {
   "codemirror_mode": {
    "name": "ipython",
    "version": 3
   },
   "file_extension": ".py",
   "mimetype": "text/x-python",
   "name": "python",
   "nbconvert_exporter": "python",
   "pygments_lexer": "ipython3",
   "version": "3.8.5"
  }
 },
 "nbformat": 4,
 "nbformat_minor": 4
}
