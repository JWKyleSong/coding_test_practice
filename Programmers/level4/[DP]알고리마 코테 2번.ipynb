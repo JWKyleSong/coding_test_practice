{
 "cells": [
  {
   "cell_type": "markdown",
   "metadata": {},
   "source": [
    "## 알고리마 코딩테스트 2번 문제\n",
    "\n",
    "### 무난한 DP 문제"
   ]
  },
  {
   "cell_type": "code",
   "execution_count": 1,
   "metadata": {},
   "outputs": [],
   "source": [
    "import copy\n",
    "\n",
    "def values_reset(sticker):\n",
    "    values = dict()\n",
    "    for i in range(len(sticker)):\n",
    "        values[i] = 0\n",
    "    return values\n",
    "\n",
    "def solution(sticker):\n",
    "    answer = 0  \n",
    "    \n",
    "    if len(sticker) == 1:\n",
    "        return sticker[0]\n",
    "    \n",
    "    ## case 0 \n",
    "    values = values_reset(sticker)\n",
    "    values[0] = sticker[0]\n",
    "    values[1] = values[0]\n",
    "    \n",
    "    for i in range(2, len(sticker) - 1):\n",
    "        values[i] = max(values[i-1], values[i-2] + sticker[i])\n",
    "    print(values)\n",
    "    answer = max(values.values())\n",
    "    \n",
    "    ## case 1\n",
    "    values = values_reset(sticker)\n",
    "    values[0] = 0\n",
    "    values[1] = sticker[1]\n",
    "    \n",
    "    for i in range(2, len(sticker)):\n",
    "        values[i] = max(values[i-1], values[i-2] + sticker[i])\n",
    "    print(values)\n",
    "\n",
    "    return max(answer, max(values.values()))"
   ]
  },
  {
   "cell_type": "code",
   "execution_count": 3,
   "metadata": {},
   "outputs": [
    {
     "name": "stdout",
     "output_type": "stream",
     "text": [
      "{0: 1, 1: 1, 2: 11, 3: 0}\n",
      "{0: 0, 1: 2, 2: 10, 3: 13}\n"
     ]
    },
    {
     "data": {
      "text/plain": [
       "13"
      ]
     },
     "execution_count": 3,
     "metadata": {},
     "output_type": "execute_result"
    }
   ],
   "source": [
    "sticker = [1, 2, 10, 11]\n",
    "\n",
    "solution(sticker)"
   ]
  },
  {
   "cell_type": "code",
   "execution_count": 59,
   "metadata": {},
   "outputs": [],
   "source": [
    "for i in range(3, 3):\n",
    "    print(\"hi\")"
   ]
  }
 ],
 "metadata": {
  "kernelspec": {
   "display_name": "Python 3",
   "language": "python",
   "name": "python3"
  },
  "language_info": {
   "codemirror_mode": {
    "name": "ipython",
    "version": 3
   },
   "file_extension": ".py",
   "mimetype": "text/x-python",
   "name": "python",
   "nbconvert_exporter": "python",
   "pygments_lexer": "ipython3",
   "version": "3.8.8"
  }
 },
 "nbformat": 4,
 "nbformat_minor": 4
}
