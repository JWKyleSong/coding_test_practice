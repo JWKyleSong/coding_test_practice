{
 "cells": [
  {
   "cell_type": "markdown",
   "id": "creative-screening",
   "metadata": {},
   "source": [
    "## 도둑질\n",
    "\n",
    "### 무난한 dp 문제"
   ]
  },
  {
   "cell_type": "markdown",
   "id": "touched-waterproof",
   "metadata": {},
   "source": [
    "### 제출 답안"
   ]
  },
  {
   "cell_type": "code",
   "execution_count": 3,
   "id": "mineral-bronze",
   "metadata": {},
   "outputs": [],
   "source": [
    "def solution(money):\n",
    "    answer = 0\n",
    "    reward = dict()\n",
    "    \n",
    "    if len(money) < 3:\n",
    "        return max(money)\n",
    "    \n",
    "    # case 0\n",
    "    reward[0] = money[0]\n",
    "    reward[1] = reward[0]\n",
    "    for index in range(2, len(money) - 1):\n",
    "        reward[index] = max(reward[index - 2] + money[index], reward[index - 1])\n",
    "    answer = max(reward.values())\n",
    "    \n",
    "    # case 1\n",
    "    reward.clear()\n",
    "    reward[0] = 0\n",
    "    reward[1] = money[1]\n",
    "    for index in range(2, len(money)):\n",
    "        reward[index] = max(reward[index - 2] + money[index], reward[index - 1])    \n",
    "    \n",
    "    return max(max(reward.values()), answer)"
   ]
  },
  {
   "cell_type": "code",
   "execution_count": 4,
   "id": "further-conspiracy",
   "metadata": {},
   "outputs": [
    {
     "data": {
      "text/plain": [
       "4"
      ]
     },
     "execution_count": 4,
     "metadata": {},
     "output_type": "execute_result"
    }
   ],
   "source": [
    "money = [1, 2, 3, 1]\n",
    "\n",
    "solution(money)"
   ]
  }
 ],
 "metadata": {
  "kernelspec": {
   "display_name": "Python 3",
   "language": "python",
   "name": "python3"
  },
  "language_info": {
   "codemirror_mode": {
    "name": "ipython",
    "version": 3
   },
   "file_extension": ".py",
   "mimetype": "text/x-python",
   "name": "python",
   "nbconvert_exporter": "python",
   "pygments_lexer": "ipython3",
   "version": "3.8.8"
  }
 },
 "nbformat": 4,
 "nbformat_minor": 5
}
