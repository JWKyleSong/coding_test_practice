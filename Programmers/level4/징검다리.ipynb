{
 "cells": [
  {
   "cell_type": "code",
   "execution_count": 9,
   "id": "verified-imagination",
   "metadata": {},
   "outputs": [
    {
     "name": "stdout",
     "output_type": "stream",
     "text": [
      "5\n",
      "[5, 9]\n"
     ]
    }
   ],
   "source": [
    "stones = [2, 4, 5, 3, 2, 1, 4, 2, 5, 1]\n",
    "\n",
    "print(stones.index(1))\n",
    "\n",
    "a = [index for index, item in enumerate(stones) if item == min(stones)]\n",
    "\n",
    "print(a)"
   ]
  },
  {
   "cell_type": "code",
   "execution_count": 49,
   "id": "devoted-advertising",
   "metadata": {},
   "outputs": [
    {
     "name": "stdout",
     "output_type": "stream",
     "text": [
      "[0, 1, 2, 0, 0, 0, 1, 0, 2, 0]\n",
      "[0, 1, 2]\n"
     ]
    }
   ],
   "source": [
    "stones = [2, 4, 5, 3, 2, 1, 4, 2, 5, 1]\n",
    "temp = []\n",
    "k = 3\n",
    "mid = 3\n",
    "\n",
    "for item in stones:\n",
    "        if item - mid <= 0:\n",
    "            temp.append(0)\n",
    "        else:\n",
    "            temp.append(item - mid)\n",
    "print(temp)\n",
    "\n",
    "temp_test = temp[0:3]\n",
    "print(temp_test)"
   ]
  },
  {
   "cell_type": "code",
   "execution_count": 50,
   "id": "considered-lottery",
   "metadata": {
    "scrolled": true
   },
   "outputs": [
    {
     "name": "stdout",
     "output_type": "stream",
     "text": [
      "[0, 0, 0]\n",
      "no\n"
     ]
    }
   ],
   "source": [
    "for index in range(k, len(stones)):\n",
    "        if max(temp[index - k:index]) == 0:\n",
    "            print(temp[index - k:index])\n",
    "            print(\"no\")"
   ]
  },
  {
   "cell_type": "code",
   "execution_count": 24,
   "id": "answering-rough",
   "metadata": {},
   "outputs": [],
   "source": [
    "def solution(stones, k):\n",
    "    answer = max(stones)\n",
    "    \n",
    "    min_list = [index for index, item in enumerate(stones) if item == min(stones)]\n",
    "    for i in range()\n",
    "    \n",
    "    \n",
    "    for index in min_list:\n",
    "        for i in range(k):\n",
    "            temp = stones[index + 1 - k + i:index + 1 + i]\n",
    "            if len(temp) == k:\n",
    "                print(temp)\n",
    "                answer = min(answer, max(stones[index + 1 - k + i:index + 1 + i]))\n",
    "    \n",
    "    return answer"
   ]
  },
  {
   "cell_type": "code",
   "execution_count": 47,
   "id": "welcome-vanilla",
   "metadata": {},
   "outputs": [],
   "source": [
    "def solution(stones, k):\n",
    "    \n",
    "    answer = 1\n",
    "    left, right = 1, max(stones)\n",
    "    \n",
    "    while left <= right:\n",
    "        mid = (left + right) // 2  \n",
    "        flag = True \n",
    "        temp = []\n",
    "        print(mid)\n",
    "        \n",
    "        for item in stones:\n",
    "            if item - mid <= 0:\n",
    "                temp.append(0)\n",
    "            else:\n",
    "                temp.append(item - mid)\n",
    "                \n",
    "        for index in range(k, len(stones)):\n",
    "            if max(temp[index - k:index]) == 0:\n",
    "                flag = False\n",
    "                \n",
    "        if flag == True:\n",
    "            answer = mid\n",
    "            left = mid + 1\n",
    "        else:\n",
    "            right = mid - 1\n",
    "    \n",
    "    return answer"
   ]
  },
  {
   "cell_type": "code",
   "execution_count": 79,
   "id": "interracial-arena",
   "metadata": {},
   "outputs": [],
   "source": [
    "def solution(stones, k):\n",
    "    \n",
    "    answer = 1\n",
    "    left, right = 1, max(stones) + 1\n",
    "    max_list = []\n",
    "    \n",
    "    for index in range(k, len(stones) + 1):\n",
    "        max_list.append(max(stones[index - k : index]))\n",
    "        \n",
    "    print(max_list)\n",
    "    \n",
    "    while left <= right:\n",
    "        mid = (left + right) // 2  \n",
    "        flag = True \n",
    "        temp = []\n",
    "                \n",
    "        for item in max_list:\n",
    "            if item < mid:\n",
    "                flag = False\n",
    "                \n",
    "        if flag == True:\n",
    "            answer = mid\n",
    "            left = mid + 1\n",
    "        else:\n",
    "            right = mid - 1\n",
    "    \n",
    "    return answer"
   ]
  },
  {
   "cell_type": "code",
   "execution_count": 80,
   "id": "about-tractor",
   "metadata": {},
   "outputs": [
    {
     "name": "stdout",
     "output_type": "stream",
     "text": [
      "[6, 6, 6, 5]\n"
     ]
    },
    {
     "data": {
      "text/plain": [
       "5"
      ]
     },
     "execution_count": 80,
     "metadata": {},
     "output_type": "execute_result"
    }
   ],
   "source": [
    "stones = [1, 1, 6, 5, 1, 1]\n",
    "k = 3\n",
    "\n",
    "solution(stones, k)"
   ]
  }
 ],
 "metadata": {
  "kernelspec": {
   "display_name": "Python 3",
   "language": "python",
   "name": "python3"
  },
  "language_info": {
   "codemirror_mode": {
    "name": "ipython",
    "version": 3
   },
   "file_extension": ".py",
   "mimetype": "text/x-python",
   "name": "python",
   "nbconvert_exporter": "python",
   "pygments_lexer": "ipython3",
   "version": "3.8.8"
  }
 },
 "nbformat": 4,
 "nbformat_minor": 5
}
