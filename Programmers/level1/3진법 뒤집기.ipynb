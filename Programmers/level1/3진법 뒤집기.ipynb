{
 "cells": [
  {
   "cell_type": "markdown",
   "metadata": {},
   "source": [
    "## 3진법 뒤집기\n",
    "\n",
    "### int(str, 진법) 으로 바꿔짐"
   ]
  },
  {
   "cell_type": "code",
   "execution_count": 34,
   "metadata": {},
   "outputs": [],
   "source": [
    "n = 45"
   ]
  },
  {
   "cell_type": "code",
   "execution_count": null,
   "metadata": {},
   "outputs": [],
   "source": [
    "def solution(n):\n",
    "    answer = 0\n",
    "    mul = 1\n",
    "    trinary = []\n",
    "    while n > 2:\n",
    "        trinary.append(n % 3)\n",
    "        n = n // 3\n",
    "    trinary.append(n)\n",
    "    for num in reversed(trinary):\n",
    "        answer += num * mul\n",
    "        mul *= 3\n",
    "    \n",
    "    return answer"
   ]
  },
  {
   "cell_type": "markdown",
   "metadata": {},
   "source": [
    "### 참조 풀이"
   ]
  },
  {
   "cell_type": "code",
   "execution_count": null,
   "metadata": {},
   "outputs": [],
   "source": [
    "def solution(n):\n",
    "    tmp = ''\n",
    "    while n:\n",
    "        tmp += str(n % 3)\n",
    "        n = n // 3\n",
    "\n",
    "    answer = int(tmp, 3)     # 3진법으로 바꿔주는 함수\n",
    "    return answer"
   ]
  },
  {
   "cell_type": "code",
   "execution_count": 35,
   "metadata": {},
   "outputs": [
    {
     "name": "stdout",
     "output_type": "stream",
     "text": [
      "[0, 0, 2, 1]\n"
     ]
    }
   ],
   "source": [
    "a = []\n",
    "while n > 2:\n",
    "    a.append(n % 3)\n",
    "    n = n // 3\n",
    "    \n",
    "a.append(n)\n",
    "\n",
    "print(a)"
   ]
  },
  {
   "cell_type": "code",
   "execution_count": 44,
   "metadata": {},
   "outputs": [
    {
     "name": "stdout",
     "output_type": "stream",
     "text": [
      "1\n",
      "7\n",
      "7\n",
      "7\n",
      "7\n"
     ]
    }
   ],
   "source": [
    "a = [0, 0, 2, 1]\n",
    "k = 0\n",
    "t = 1\n",
    "\n",
    "for num in reversed(a):\n",
    "    k += num * t\n",
    "    t *= 3\n",
    "    "
   ]
  }
 ],
 "metadata": {
  "kernelspec": {
   "display_name": "Python 3",
   "language": "python",
   "name": "python3"
  },
  "language_info": {
   "codemirror_mode": {
    "name": "ipython",
    "version": 3
   },
   "file_extension": ".py",
   "mimetype": "text/x-python",
   "name": "python",
   "nbconvert_exporter": "python",
   "pygments_lexer": "ipython3",
   "version": "3.8.5"
  }
 },
 "nbformat": 4,
 "nbformat_minor": 4
}
