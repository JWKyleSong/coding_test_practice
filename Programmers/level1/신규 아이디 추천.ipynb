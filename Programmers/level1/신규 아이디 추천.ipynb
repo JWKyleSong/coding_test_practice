{
 "cells": [
  {
   "cell_type": "markdown",
   "metadata": {},
   "source": [
    "## 신규 아이디 추천\n",
    "\n",
    "### 문자열의 lower(), join(), count(), replace(), strip(), 슬라이싱 사용\n",
    "\n",
    "### strip()는 알아두자 lstrip(), rstrip() 도 있음"
   ]
  },
  {
   "cell_type": "code",
   "execution_count": 50,
   "metadata": {},
   "outputs": [],
   "source": [
    "#new_id = \"...!@BaT#*..y.abcdefghijklm\"\n",
    "#new_id = \"=.=\"\n",
    "new_id = \"z-+.^.\""
   ]
  },
  {
   "cell_type": "code",
   "execution_count": 51,
   "metadata": {},
   "outputs": [
    {
     "name": "stdout",
     "output_type": "stream",
     "text": [
      "z-+.^.\n"
     ]
    }
   ],
   "source": [
    "answer = new_id.lower()\n",
    "\n",
    "print(new_id)"
   ]
  },
  {
   "cell_type": "code",
   "execution_count": 52,
   "metadata": {},
   "outputs": [
    {
     "name": "stdout",
     "output_type": "stream",
     "text": [
      "z-..\n"
     ]
    }
   ],
   "source": [
    "chars = \"\\~~!@#$%^&*()=+[{]}:?,<>/\"\n",
    "answer = ''.join( item for item in answer if item not in chars)\n",
    "\n",
    "print(new_id)"
   ]
  },
  {
   "cell_type": "code",
   "execution_count": 53,
   "metadata": {},
   "outputs": [
    {
     "name": "stdout",
     "output_type": "stream",
     "text": [
      "z-.\n"
     ]
    }
   ],
   "source": [
    "while 1:\n",
    "    if answer.count(\"..\"):\n",
    "        answer = answer.replace(\"..\", \".\")\n",
    "    else:\n",
    "        break\n",
    "        \n",
    "print(answer)"
   ]
  },
  {
   "cell_type": "code",
   "execution_count": 54,
   "metadata": {},
   "outputs": [
    {
     "name": "stdout",
     "output_type": "stream",
     "text": [
      "z-\n"
     ]
    }
   ],
   "source": [
    "answer = answer.strip(\".\")\n",
    "\n",
    "print(answer)"
   ]
  },
  {
   "cell_type": "code",
   "execution_count": 55,
   "metadata": {},
   "outputs": [
    {
     "name": "stdout",
     "output_type": "stream",
     "text": [
      "z-\n"
     ]
    }
   ],
   "source": [
    "if len(answer) == 0 :\n",
    "    answer = \"a\"\n",
    "    \n",
    "print(answer)"
   ]
  },
  {
   "cell_type": "code",
   "execution_count": 56,
   "metadata": {},
   "outputs": [
    {
     "name": "stdout",
     "output_type": "stream",
     "text": [
      "z-\n"
     ]
    }
   ],
   "source": [
    "answer = answer[:15]\n",
    "answer = answer.strip(\".\")\n",
    "\n",
    "print(newanswer_id)"
   ]
  },
  {
   "cell_type": "code",
   "execution_count": 57,
   "metadata": {},
   "outputs": [
    {
     "name": "stdout",
     "output_type": "stream",
     "text": [
      "z--\n"
     ]
    }
   ],
   "source": [
    "while 1:\n",
    "    if len(answer) < 3 :\n",
    "        answer = answer + answer[-1]\n",
    "    else :\n",
    "        break\n",
    "        \n",
    "print(answer)"
   ]
  }
 ],
 "metadata": {
  "kernelspec": {
   "display_name": "Python 3",
   "language": "python",
   "name": "python3"
  },
  "language_info": {
   "codemirror_mode": {
    "name": "ipython",
    "version": 3
   },
   "file_extension": ".py",
   "mimetype": "text/x-python",
   "name": "python",
   "nbconvert_exporter": "python",
   "pygments_lexer": "ipython3",
   "version": "3.8.5"
  }
 },
 "nbformat": 4,
 "nbformat_minor": 4
}
