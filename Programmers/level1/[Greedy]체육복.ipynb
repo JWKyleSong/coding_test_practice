{
 "cells": [
  {
   "cell_type": "markdown",
   "metadata": {},
   "source": [
    "## 체육복\n",
    "\n",
    "### 그리디"
   ]
  },
  {
   "cell_type": "code",
   "execution_count": 13,
   "metadata": {},
   "outputs": [],
   "source": [
    "n = 10\n",
    "lost = [1, 2, 4, 5, 8, 10]\n",
    "#reserve = [3]\n",
    "reserve = [1, 3, 5, 9]\n",
    "# return will be 5"
   ]
  },
  {
   "cell_type": "code",
   "execution_count": 43,
   "metadata": {},
   "outputs": [],
   "source": [
    "n = 3\n",
    "lost = [1, 2]\n",
    "reserve = [1, 2, 3]"
   ]
  },
  {
   "cell_type": "code",
   "execution_count": 44,
   "metadata": {},
   "outputs": [],
   "source": [
    "import collections\n",
    "\n",
    "def solution(n, lost, reserve):\n",
    "    real_lost = list((collections.Counter(lost) - collections.Counter(reserve)).keys())\n",
    "    real_reserve = list((collections.Counter(reserve) - collections.Counter(lost)).keys())\n",
    "    answer = n - len(real_lost)\n",
    "    \n",
    "    for person in real_lost:\n",
    "        if real_reserve.count(person - 1) > 0:\n",
    "            real_reserve.remove(person - 1)\n",
    "            answer += 1\n",
    "            continue\n",
    "        if real_reserve.count(person + 1) > 0:\n",
    "            real_reserve.remove(person + 1)\n",
    "            answer += 1\n",
    "            continue\n",
    "    \n",
    "    return answer"
   ]
  },
  {
   "cell_type": "code",
   "execution_count": 45,
   "metadata": {},
   "outputs": [
    {
     "data": {
      "text/plain": [
       "3"
      ]
     },
     "execution_count": 45,
     "metadata": {},
     "output_type": "execute_result"
    }
   ],
   "source": [
    "solution(n, lost, reserve)"
   ]
  }
 ],
 "metadata": {
  "kernelspec": {
   "display_name": "Python 3",
   "language": "python",
   "name": "python3"
  },
  "language_info": {
   "codemirror_mode": {
    "name": "ipython",
    "version": 3
   },
   "file_extension": ".py",
   "mimetype": "text/x-python",
   "name": "python",
   "nbconvert_exporter": "python",
   "pygments_lexer": "ipython3",
   "version": "3.8.5"
  }
 },
 "nbformat": 4,
 "nbformat_minor": 4
}
