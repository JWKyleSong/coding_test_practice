{
 "cells": [
  {
   "cell_type": "markdown",
   "metadata": {},
   "source": [
    "## 모의고사\n",
    "\n",
    "### enumerate() 로 인덱스와 튜플 형태로 만들 수 있음!!"
   ]
  },
  {
   "cell_type": "code",
   "execution_count": 14,
   "metadata": {},
   "outputs": [],
   "source": [
    "answers = [1,2,3,4,5]\n",
    "# return will be [1]\n",
    "\n",
    "#answers = [1,3,2,4,2]\n",
    "# return will be [1, 2, 3]"
   ]
  },
  {
   "cell_type": "code",
   "execution_count": 15,
   "metadata": {},
   "outputs": [],
   "source": [
    "a = [1, 2, 3, 4, 5]\n",
    "b = [2, 1, 2, 3, 2, 4, 2, 5]\n",
    "c = [3, 3, 1, 1, 2, 2, 4, 4, 5, 5]\n",
    "\n",
    "scores = [0, 0, 0]\n",
    "answer = []"
   ]
  },
  {
   "cell_type": "code",
   "execution_count": 16,
   "metadata": {},
   "outputs": [
    {
     "name": "stdout",
     "output_type": "stream",
     "text": [
      "[5, 0, 0]\n"
     ]
    }
   ],
   "source": [
    "for num in range(len(answers)):\n",
    "    if a[num % 5] == answers[num]:\n",
    "        scores[0] += 1\n",
    "        \n",
    "    if b[num % 8] == answers[num]:\n",
    "        scores[1] += 1\n",
    "    \n",
    "    if c[num % 10] == answers[num]:\n",
    "        scores[2] += 1\n",
    "        \n",
    "print(scores)        "
   ]
  },
  {
   "cell_type": "code",
   "execution_count": 17,
   "metadata": {},
   "outputs": [
    {
     "name": "stdout",
     "output_type": "stream",
     "text": [
      "[1]\n"
     ]
    }
   ],
   "source": [
    "for name, score in enumerate(scores):\n",
    "    if score == max(scores):\n",
    "        answer.append(name + 1)\n",
    "        \n",
    "print(answer)"
   ]
  },
  {
   "cell_type": "code",
   "execution_count": null,
   "metadata": {},
   "outputs": [],
   "source": [
    "### 최종\n",
    "\n",
    "def solution(answers):\n",
    "    answer = []\n",
    "    scores = [0, 0, 0]\n",
    "    \n",
    "    a = [1, 2, 3, 4, 5]\n",
    "    b = [2, 1, 2, 3, 2, 4, 2, 5]\n",
    "    c = [3, 3, 1, 1, 2, 2, 4, 4, 5, 5]\n",
    "    \n",
    "    for num in range(len(answers)):\n",
    "        if a[num % 5] == answers[num]:\n",
    "            scores[0] += 1\n",
    "        \n",
    "        if b[num % 8] == answers[num]:\n",
    "            scores[1] += 1\n",
    "    \n",
    "        if c[num % 10] == answers[num]:\n",
    "            scores[2] += 1\n",
    "    \n",
    "    for name, score in enumerate(scores):\n",
    "        if score == max(scores):\n",
    "            answer.append(name + 1)\n",
    "    \n",
    "    return answer"
   ]
  }
 ],
 "metadata": {
  "kernelspec": {
   "display_name": "Python 3",
   "language": "python",
   "name": "python3"
  },
  "language_info": {
   "codemirror_mode": {
    "name": "ipython",
    "version": 3
   },
   "file_extension": ".py",
   "mimetype": "text/x-python",
   "name": "python",
   "nbconvert_exporter": "python",
   "pygments_lexer": "ipython3",
   "version": "3.8.5"
  }
 },
 "nbformat": 4,
 "nbformat_minor": 4
}
