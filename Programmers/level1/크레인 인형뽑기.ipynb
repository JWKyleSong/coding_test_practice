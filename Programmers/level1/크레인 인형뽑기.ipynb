{
 "cells": [
  {
   "cell_type": "markdown",
   "metadata": {},
   "source": [
    "## 크레인 인형뽑기\n",
    "\n",
    "### map, zip 을 통한 transpose, 리스트 컴프리헨션 사용"
   ]
  },
  {
   "cell_type": "code",
   "execution_count": 86,
   "metadata": {},
   "outputs": [],
   "source": [
    "board = [[0,0,0,0,0],[0,0,1,0,3],[0,2,5,0,1],[4,2,4,4,2],[3,5,1,3,1]]\n",
    "moves = [1,5,3,5,1,2,1,4]\n",
    "# result will be 4"
   ]
  },
  {
   "cell_type": "code",
   "execution_count": 79,
   "metadata": {},
   "outputs": [
    {
     "name": "stdout",
     "output_type": "stream",
     "text": [
      "[[0 0 0 0 0]\n",
      " [0 0 1 0 3]\n",
      " [0 2 5 0 1]\n",
      " [0 2 4 4 2]\n",
      " [0 5 1 3 1]]\n"
     ]
    }
   ],
   "source": [
    "print(np.array(board))"
   ]
  },
  {
   "cell_type": "code",
   "execution_count": 25,
   "metadata": {
    "scrolled": true
   },
   "outputs": [
    {
     "name": "stdout",
     "output_type": "stream",
     "text": [
      "[[0 0 0 4 3]\n",
      " [0 0 2 2 5]\n",
      " [0 1 5 4 1]\n",
      " [0 0 0 4 3]\n",
      " [0 3 1 2 1]]\n"
     ]
    }
   ],
   "source": [
    "import numpy as np\n",
    "\n",
    "print(np.array(board).T)"
   ]
  },
  {
   "cell_type": "code",
   "execution_count": 45,
   "metadata": {},
   "outputs": [
    {
     "name": "stdout",
     "output_type": "stream",
     "text": [
      "[[0, 0, 0, 0, 0], [0, 0, 1, 0, 3], [2, 5, 0, 1], [4, 2, 4, 4, 2], [3, 5, 1, 3, 1]]\n"
     ]
    }
   ],
   "source": [
    "board[2].remove(0)\n",
    "print(board)"
   ]
  },
  {
   "cell_type": "code",
   "execution_count": 52,
   "metadata": {},
   "outputs": [
    {
     "name": "stdout",
     "output_type": "stream",
     "text": [
      "[[0 0 0 4 3]\n",
      " [0 0 2 2 5]\n",
      " [0 1 0 4 1]\n",
      " [0 0 0 4 3]\n",
      " [0 3 1 2 1]]\n"
     ]
    }
   ],
   "source": [
    "import numpy as np\n",
    "\n",
    "a = np.array(board).T\n",
    "a[2][2] = 0\n",
    "print(a)"
   ]
  },
  {
   "cell_type": "code",
   "execution_count": 84,
   "metadata": {},
   "outputs": [
    {
     "name": "stdout",
     "output_type": "stream",
     "text": [
      "[[0, 0, 0, 0, 0], [0, 0, 2, 2, 5], [0, 1, 5, 4, 1], [0, 0, 0, 4, 3], [0, 3, 1, 2, 1]]\n",
      "[[], [5, 2, 2], [1, 4, 5, 1], [3, 4], [1, 2, 1, 3]]\n"
     ]
    }
   ],
   "source": [
    "c = list(map(list, zip(*board)))\n",
    "print(c)\n",
    "plz = []\n",
    "for row in c:\n",
    "    row = [item for item in row if item != 0]\n",
    "    row.reverse()\n",
    "    plz.append(row)\n",
    "\n",
    "print(plz)"
   ]
  },
  {
   "cell_type": "code",
   "execution_count": 72,
   "metadata": {},
   "outputs": [
    {
     "name": "stdout",
     "output_type": "stream",
     "text": [
      "3\n"
     ]
    }
   ],
   "source": [
    "a = [1, 2, 3]\n",
    "\n",
    "print(len(a))"
   ]
  },
  {
   "cell_type": "code",
   "execution_count": 87,
   "metadata": {},
   "outputs": [
    {
     "name": "stdout",
     "output_type": "stream",
     "text": [
      "[0, 4, 2, 4]\n",
      "4\n"
     ]
    }
   ],
   "source": [
    "## 제출\n",
    "\n",
    "refined = []\n",
    "bascket = [0]\n",
    "answer = 0\n",
    "\n",
    "for row in list(map(list, zip(*board))):\n",
    "    row = [item for item in row if item != 0]\n",
    "    row.reverse()\n",
    "    refined.append(row)\n",
    "    \n",
    "for crane in moves:\n",
    "    if len(refined[crane-1]) > 0:\n",
    "        bascket.append(refined[crane-1].pop())\n",
    "        if bascket[-1] == bascket[-2]:\n",
    "            bascket.pop()\n",
    "            bascket.pop()\n",
    "            answer += 2\n",
    "        \n",
    "print(bascket)\n",
    "print(answer)"
   ]
  }
 ],
 "metadata": {
  "kernelspec": {
   "display_name": "Python 3",
   "language": "python",
   "name": "python3"
  },
  "language_info": {
   "codemirror_mode": {
    "name": "ipython",
    "version": 3
   },
   "file_extension": ".py",
   "mimetype": "text/x-python",
   "name": "python",
   "nbconvert_exporter": "python",
   "pygments_lexer": "ipython3",
   "version": "3.8.5"
  }
 },
 "nbformat": 4,
 "nbformat_minor": 4
}
