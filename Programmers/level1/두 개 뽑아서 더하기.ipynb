{
 "cells": [
  {
   "cell_type": "markdown",
   "metadata": {},
   "source": [
    "## 두 개 뽑아서 더하기 연습\n",
    "\n",
    "### itertools 사용"
   ]
  },
  {
   "cell_type": "code",
   "execution_count": 1,
   "metadata": {},
   "outputs": [],
   "source": [
    "numbers = [2,1,3,4,1]\n",
    "#[2,3,4,5,6,7]\n",
    "\n",
    "numbers2 = [5,0,2,7]\n",
    "#[2,5,7,9,12]"
   ]
  },
  {
   "cell_type": "code",
   "execution_count": 43,
   "metadata": {},
   "outputs": [
    {
     "name": "stdout",
     "output_type": "stream",
     "text": [
      "[0, 1, 2, 3, 100, 4, 7]\n",
      "[0, 1, 2, 3, 4, 7, 100]\n"
     ]
    }
   ],
   "source": [
    "a = [3, 4, 100, 2, 0, 1, 7]\n",
    "a = list(set(a))\n",
    "print(a)\n",
    "a.sort()\n",
    "print(a)"
   ]
  },
  {
   "cell_type": "code",
   "execution_count": 3,
   "metadata": {},
   "outputs": [
    {
     "name": "stdout",
     "output_type": "stream",
     "text": [
      "[(5, 0), (5, 2), (5, 7), (0, 2), (0, 7), (2, 7)]\n"
     ]
    }
   ],
   "source": [
    "import itertools\n",
    "\n",
    "result = []\n",
    "final = []\n",
    "c=itertools.combinations(numbers2,2)\n",
    "result.extend(c)\n",
    "\n",
    "for subset in result:\n",
    "    final.append(sum(list(subset)))\n",
    "\n",
    "final = list(set(final))\n"
   ]
  }
 ],
 "metadata": {
  "kernelspec": {
   "display_name": "Python 3",
   "language": "python",
   "name": "python3"
  },
  "language_info": {
   "codemirror_mode": {
    "name": "ipython",
    "version": 3
   },
   "file_extension": ".py",
   "mimetype": "text/x-python",
   "name": "python",
   "nbconvert_exporter": "python",
   "pygments_lexer": "ipython3",
   "version": "3.8.8"
  }
 },
 "nbformat": 4,
 "nbformat_minor": 4
}
