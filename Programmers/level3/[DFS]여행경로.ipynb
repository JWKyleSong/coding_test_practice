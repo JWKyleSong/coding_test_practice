{
 "cells": [
  {
   "cell_type": "markdown",
   "metadata": {},
   "source": [
    "## 여행경로"
   ]
  },
  {
   "cell_type": "code",
   "execution_count": 75,
   "metadata": {},
   "outputs": [],
   "source": [
    "from collections import deque\n",
    "import copy\n",
    "\n",
    "def destinations(tickets, start):\n",
    "    return sorted([item[1] for item in tickets if item[0] == start], reverse = True)\n",
    "\n",
    "def tickets_left(tics, start, dest):\n",
    "    t = copy.deepcopy(tics)\n",
    "    t.remove([start, dest])\n",
    "    return t\n",
    "\n",
    "def solution(tickets):\n",
    "    stack = deque([])\n",
    "    dest = destinations(tickets, \"ICN\")\n",
    "    \n",
    "    for d in dest:\n",
    "        stack.append((\"ICN\", d, tickets_left(tickets, \"ICN\", d), [\"ICN\"]))  # (start, dest, tickets, answer)\n",
    "        \n",
    "    while stack:\n",
    "        cur = stack.pop()\n",
    "        start, dest, tics, answer = cur[0], cur[1], cur[2], cur[3]\n",
    "        if len(tics) == 0:\n",
    "            return answer + [dest]\n",
    "        new_dest = destinations(tics, dest)\n",
    "        \n",
    "        for d in new_dest:\n",
    "            stack.append((dest, d, tickets_left(tics, dest, d), answer + [dest]))"
   ]
  },
  {
   "cell_type": "code",
   "execution_count": 76,
   "metadata": {},
   "outputs": [
    {
     "data": {
      "text/plain": [
       "['ICN', 'A', 'ICN', 'A', 'C']"
      ]
     },
     "execution_count": 76,
     "metadata": {},
     "output_type": "execute_result"
    }
   ],
   "source": [
    "tickets = [[\"ICN\", \"A\"], [\"ICN\", \"A\"], [\"A\", \"ICN\"], [\"A\", \"C\"]]\n",
    "\n",
    "solution(tickets)"
   ]
  }
 ],
 "metadata": {
  "kernelspec": {
   "display_name": "Python 3",
   "language": "python",
   "name": "python3"
  },
  "language_info": {
   "codemirror_mode": {
    "name": "ipython",
    "version": 3
   },
   "file_extension": ".py",
   "mimetype": "text/x-python",
   "name": "python",
   "nbconvert_exporter": "python",
   "pygments_lexer": "ipython3",
   "version": "3.8.8"
  }
 },
 "nbformat": 4,
 "nbformat_minor": 4
}
