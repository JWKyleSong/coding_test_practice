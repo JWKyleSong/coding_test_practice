{
 "cells": [
  {
   "cell_type": "markdown",
   "metadata": {},
   "source": [
    "## N으로 표현\n",
    "\n"
   ]
  },
  {
   "cell_type": "code",
   "execution_count": 51,
   "metadata": {},
   "outputs": [],
   "source": [
    "import copy\n",
    "\n",
    "def solution(N, number):\n",
    "    pos = dict()\n",
    "    pos[1] = [N]\n",
    "    count = 1\n",
    "    \n",
    "    for i in range(2, 9):\n",
    "        pos[i] = []\n",
    "        \n",
    "    if number == N:\n",
    "        return 1\n",
    "\n",
    "    while True:\n",
    "        count += 1\n",
    "        \n",
    "        if count > 8:\n",
    "            return -1\n",
    "        \n",
    "        combs = []\n",
    "        for i in range(1, count // 2 + 1):\n",
    "            combs.append((i, count - i))\n",
    "        temp = []\n",
    "        \n",
    "        for item in combs:\n",
    "            for num1 in pos[item[0]]:\n",
    "                for num2 in pos[item[1]]:\n",
    "                    temp.append(num1 + num2)\n",
    "                    temp.append(num1 - num2)\n",
    "                    temp.append(num2 - num1)\n",
    "                    temp.append(num1 * num2)\n",
    "                    if num2 != 0:\n",
    "                        temp.append(num1 // num2)\n",
    "                    if num1 != 0:\n",
    "                        temp.append(num2 // num1)\n",
    "        temp.append(int(str(N) * count))\n",
    "                        \n",
    "        temp = list(set(temp))\n",
    "        pos[count] = copy.deepcopy(temp)\n",
    "        \n",
    "        if number in pos[count]:\n",
    "            return count"
   ]
  },
  {
   "cell_type": "code",
   "execution_count": 52,
   "metadata": {},
   "outputs": [
    {
     "data": {
      "text/plain": [
       "-1"
      ]
     },
     "execution_count": 52,
     "metadata": {},
     "output_type": "execute_result"
    }
   ],
   "source": [
    "N = 2\n",
    "number = 777777\n",
    "\n",
    "solution(N, number)"
   ]
  },
  {
   "cell_type": "code",
   "execution_count": null,
   "metadata": {},
   "outputs": [],
   "source": [
    "def solution(N, number):\n",
    "    pos = [N]\n",
    "    count = 1\n",
    "\n",
    "    while True:\n",
    "        count += 1\n",
    "        \n",
    "        if count > 8:\n",
    "            return -1\n",
    "        \n",
    "        temp = []\n",
    "\n",
    "        for item in pos:\n",
    "            temp.append(item + N)\n",
    "            temp.append(item - N)\n",
    "            temp.append(N - item)\n",
    "            temp.append(item * N)\n",
    "            temp.append(item // N)\n",
    "            if item > 0:\n",
    "                temp.append(int(str(item) + str(N)))\n",
    "                temp.append(int(str(N) + str(item)))\n",
    "            if item != 0:\n",
    "                temp.append(N // item)\n",
    "        pos += temp\n",
    "        pos = list(set(pos))\n",
    "\n",
    "        if pos.count(number):\n",
    "            return count"
   ]
  },
  {
   "cell_type": "code",
   "execution_count": 24,
   "metadata": {},
   "outputs": [
    {
     "name": "stdout",
     "output_type": "stream",
     "text": [
      "[(1, 5), (2, 4), (3, 3)]\n"
     ]
    }
   ],
   "source": [
    "a= 6\n",
    "r = []\n",
    "\n",
    "for i in range(1, a // 2 + 1):\n",
    "    r.append((i, a - i))\n",
    "    \n",
    "print(r)"
   ]
  },
  {
   "cell_type": "code",
   "execution_count": 45,
   "metadata": {},
   "outputs": [
    {
     "name": "stdout",
     "output_type": "stream",
     "text": [
      "33333\n"
     ]
    }
   ],
   "source": [
    "a = \"3\"\n",
    "\n",
    "print(a * 5)"
   ]
  }
 ],
 "metadata": {
  "kernelspec": {
   "display_name": "Python 3",
   "language": "python",
   "name": "python3"
  },
  "language_info": {
   "codemirror_mode": {
    "name": "ipython",
    "version": 3
   },
   "file_extension": ".py",
   "mimetype": "text/x-python",
   "name": "python",
   "nbconvert_exporter": "python",
   "pygments_lexer": "ipython3",
   "version": "3.8.5"
  }
 },
 "nbformat": 4,
 "nbformat_minor": 4
}
