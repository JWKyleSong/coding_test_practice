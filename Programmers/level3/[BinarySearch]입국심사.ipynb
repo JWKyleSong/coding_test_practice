{
 "cells": [
  {
   "cell_type": "markdown",
   "metadata": {},
   "source": [
    "## 입국 심사\n",
    "\n",
    "### 이진 탐색 사용"
   ]
  },
  {
   "cell_type": "markdown",
   "metadata": {},
   "source": [
    "### 참조 답안"
   ]
  },
  {
   "cell_type": "code",
   "execution_count": null,
   "metadata": {},
   "outputs": [],
   "source": [
    "def solution(n, times):\n",
    "    answer = 0\n",
    "\n",
    "    leng = len(times)\n",
    "    left = 1\n",
    "    right = (leng+1) * max(times) # 최대 범위\n",
    "\n",
    "    while left <= right:\n",
    "        mid = (left + right) // 2\n",
    "\n",
    "        count = 0\n",
    "        for time in times:\n",
    "            count += mid // time\n",
    "            # 심사 인원수를 넘으면 다음 단계\n",
    "            if count >= n: break\n",
    "\n",
    "        # n명을 심사 할 수 있는 경우\n",
    "        # 한 심사관에게 주어진 시간을 줄여본다.\n",
    "        if count >= n:\n",
    "            answer = mid\n",
    "            right = mid - 1\n",
    "        # 없는 경우\n",
    "        elif count < n:\n",
    "            left = mid + 1\n",
    "\n",
    "    return answer"
   ]
  },
  {
   "cell_type": "markdown",
   "metadata": {},
   "source": [
    "### 내가 제출했던 답안\n",
    "\n",
    "#### heap 등을 써봤으나 시간초과 났음"
   ]
  },
  {
   "cell_type": "code",
   "execution_count": 6,
   "metadata": {},
   "outputs": [
    {
     "name": "stdout",
     "output_type": "stream",
     "text": [
      "[-18, -17, -16, -15, -14]\n"
     ]
    }
   ],
   "source": [
    "def solution(n, times):\n",
    "    answer = 0\n",
    "    dic = dict()\n",
    "    desks = []\n",
    "    for i in range(len(times)):\n",
    "        dic[i] = 0\n",
    "        desks.append((times[i], i))\n",
    "    \n",
    "    for i in range(n):\n",
    "        temp = min(desks, key = lambda x:x[0])\n",
    "        desks.remove(temp)\n",
    "        dic[temp[1]] = temp[0]\n",
    "        desks.append((temp[0] + times[temp[1]], temp[1]))\n",
    "    \n",
    "    return max(list(dic.values()))"
   ]
  },
  {
   "cell_type": "code",
   "execution_count": null,
   "metadata": {},
   "outputs": [],
   "source": [
    "import heapq\n",
    "\n",
    "def solution(n, times):\n",
    "    answer = 0\n",
    "    dic = dict()\n",
    "    heap = []\n",
    "    for i in range(len(times)):\n",
    "        dic[i] = 0\n",
    "        heapq.heappush(heap, (times[i], i))\n",
    "    \n",
    "    for i in range(n):\n",
    "        temp = heapq.heappop(heap)\n",
    "        dic[temp[1]] = temp[0]\n",
    "        heapq.heappush(heap, (temp[0] + times[temp[1]], temp[1]))\n",
    "    \n",
    "    return max(list(dic.values()))"
   ]
  }
 ],
 "metadata": {
  "kernelspec": {
   "display_name": "Python 3",
   "language": "python",
   "name": "python3"
  },
  "language_info": {
   "codemirror_mode": {
    "name": "ipython",
    "version": 3
   },
   "file_extension": ".py",
   "mimetype": "text/x-python",
   "name": "python",
   "nbconvert_exporter": "python",
   "pygments_lexer": "ipython3",
   "version": "3.8.5"
  }
 },
 "nbformat": 4,
 "nbformat_minor": 4
}
