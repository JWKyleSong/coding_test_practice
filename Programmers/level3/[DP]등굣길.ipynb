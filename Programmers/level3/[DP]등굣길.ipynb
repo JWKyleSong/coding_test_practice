{
 "cells": [
  {
   "cell_type": "markdown",
   "metadata": {},
   "source": [
    "## 등굣길"
   ]
  },
  {
   "cell_type": "code",
   "execution_count": 21,
   "metadata": {},
   "outputs": [],
   "source": [
    "import numpy as np\n",
    "\n",
    "def solution(m, n, puddles):\n",
    "    board = np.ones((n, m))\n",
    "    for item in puddles:\n",
    "        board[item[1]-1][item[0]-1] = 0\n",
    "    for row in range(1, n):\n",
    "        if board[row][0] != 0:\n",
    "            board[row][0] = board[row - 1][0] % 1000000007\n",
    "    for col in range(1, m):\n",
    "        if board[0][col] != 0:\n",
    "            board[0][col] = board[0][col - 1] % 1000000007\n",
    "    \n",
    "    for row in range(1, n):\n",
    "        for col in range(1, m):\n",
    "            if board[row][col] != 0:\n",
    "                board[row][col] = board[row-1][col] + board[row][col-1] % 1000000007\n",
    "\n",
    "    return int(board[n-1][m-1]) % 1000000007"
   ]
  },
  {
   "cell_type": "code",
   "execution_count": 22,
   "metadata": {},
   "outputs": [
    {
     "name": "stdout",
     "output_type": "stream",
     "text": [
      "[[1. 1. 1. 1.]\n",
      " [1. 0. 1. 2.]\n",
      " [1. 1. 2. 0.]]\n"
     ]
    },
    {
     "data": {
      "text/plain": [
       "0"
      ]
     },
     "execution_count": 22,
     "metadata": {},
     "output_type": "execute_result"
    }
   ],
   "source": [
    "m = 4\n",
    "n = 3\n",
    "puddles = [[2, 2]]\n",
    "\n",
    "solution(m, n, puddles)"
   ]
  }
 ],
 "metadata": {
  "kernelspec": {
   "display_name": "Python 3",
   "language": "python",
   "name": "python3"
  },
  "language_info": {
   "codemirror_mode": {
    "name": "ipython",
    "version": 3
   },
   "file_extension": ".py",
   "mimetype": "text/x-python",
   "name": "python",
   "nbconvert_exporter": "python",
   "pygments_lexer": "ipython3",
   "version": "3.8.5"
  }
 },
 "nbformat": 4,
 "nbformat_minor": 4
}
